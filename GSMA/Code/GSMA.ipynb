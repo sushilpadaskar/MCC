{\rtf1\ansi\ansicpg1252\cocoartf2639
\cocoatextscaling0\cocoaplatform0{\fonttbl\f0\fmodern\fcharset0 Courier;}
{\colortbl;\red255\green255\blue255;\red100\green15\blue144;\red242\green242\blue242;\red0\green0\blue0;
\red152\green74\blue3;\red15\green112\blue1;}
{\*\expandedcolortbl;;\cssrgb\c47451\c15686\c63137;\cssrgb\c96078\c96078\c96078;\cssrgb\c0\c0\c0\c87059;
\cssrgb\c66667\c36471\c0;\cssrgb\c0\c50196\c0;}
\paperw11900\paperh16840\margl1440\margr1440\vieww11520\viewh8400\viewkind0
\deftab720
\pard\pardeftab720\partightenfactor0

\f0\fs26 \cf2 \cb3 \expnd0\expndtw0\kerning0
\outl0\strokewidth0 \strokec2 import\cf4 \strokec4  random\
\
k=random.getrandbits(\cf5 \strokec5 128\cf4 \strokec4 )\
m=random.getrandbits(\cf5 \strokec5 128\cf4 \strokec4 )\
kb=\cf5 \strokec5 bin\cf4 \strokec4 (k)[\cf5 \strokec5 2\cf4 \strokec4 :]\
mb=\cf5 \strokec5 bin\cf4 \strokec4 (m)[\cf5 \strokec5 2\cf4 \strokec4 :]\
kbl=kb[\cf5 \strokec5 0\cf4 \strokec4 :\cf5 \strokec5 64\cf4 \strokec4 ]\
kbr=kb[\cf5 \strokec5 64\cf4 \strokec4 :]\
mbl=mb[\cf5 \strokec5 0\cf4 \strokec4 :\cf5 \strokec5 64\cf4 \strokec4 ]\
mbr=mb[\cf5 \strokec5 64\cf4 \strokec4 :]\
a1=\cf5 \strokec5 int\cf4 \strokec4 (kbl,\cf5 \strokec5 2\cf4 \strokec4 )^\cf5 \strokec5 int\cf4 \strokec4 (mbr,\cf5 \strokec5 2\cf4 \strokec4 )\
a2=\cf5 \strokec5 int\cf4 \strokec4 (kbr,\cf5 \strokec5 2\cf4 \strokec4 )^\cf5 \strokec5 int\cf4 \strokec4 (mbl,\cf5 \strokec5 2\cf4 \strokec4 )\
a3=a1^a2\
a4=\cf5 \strokec5 bin\cf4 \strokec4 (a3)[\cf5 \strokec5 2\cf4 \strokec4 :].zfill(\cf5 \strokec5 64\cf4 \strokec4 )\
a5=a4[\cf5 \strokec5 0\cf4 \strokec4 :\cf5 \strokec5 32\cf4 \strokec4 ]\
a6=a4[\cf5 \strokec5 32\cf4 \strokec4 :]\
a7=\cf5 \strokec5 int\cf4 \strokec4 (a5,\cf5 \strokec5 2\cf4 \strokec4 )^\cf5 \strokec5 int\cf4 \strokec4 (a6,\cf5 \strokec5 2\cf4 \strokec4 )\
\pard\pardeftab720\partightenfactor0
\cf5 \strokec5 print\cf4 \strokec4 (\cf6 \strokec6 "128 Bit Key = "\cf4 \strokec4 ,kb)\
\cf5 \strokec5 print\cf4 \strokec4 (\cf6 \strokec6 "128 Random Bits Generated = "\cf4 \strokec4 ,mb)\
\cf5 \strokec5 print\cf4 \strokec4 (\cf6 \strokec6 "RES/SRES = "\cf4 \strokec4 ,\cf5 \strokec5 bin\cf4 \strokec4 (a7)[\cf5 \strokec5 2\cf4 \strokec4 :].zfill(\cf5 \strokec5 len\cf4 \strokec4 (a5)))\
}