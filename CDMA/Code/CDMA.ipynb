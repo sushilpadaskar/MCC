{\rtf1\ansi\ansicpg1252\cocoartf2639
\cocoatextscaling0\cocoaplatform0{\fonttbl\f0\fmodern\fcharset0 CourierNewPSMT;\f1\froman\fcharset0 Times-Roman;}
{\colortbl;\red255\green255\blue255;\red255\green255\blue254;\red0\green0\blue0;}
{\*\expandedcolortbl;;\cssrgb\c100000\c100000\c99608;\cssrgb\c0\c0\c0;}
\paperw11900\paperh16840\margl1440\margr1440\vieww11520\viewh8400\viewkind0
\deftab720
\pard\pardeftab720\li157\fi-158\ri8\sa0\partightenfactor0

\f0\fs28 \cf0 \cb2 \expnd0\expndtw0\kerning0
\outl0\strokewidth0 \strokec3 "nbformat": 4,
\f1\fs29\fsmilli14667 \

\f0\fs28 \'a0\'a0"nbformat_minor": 0,
\f1\fs29\fsmilli14667 \

\f0\fs28 \'a0\'a0"metadata": \{
\f1\fs29\fsmilli14667 \

\f0\fs28 \'a0\'a0\'a0\'a0"colab": \{
\f1\fs29\fsmilli14667 \

\f0\fs28 \'a0\'a0\'a0\'a0\'a0\'a0"name": "MCC4.ipynb",
\f1\fs29\fsmilli14667 \

\f0\fs28 \'a0\'a0\'a0\'a0\'a0\'a0"provenance": [],
\f1\fs29\fsmilli14667 \

\f0\fs28 \'a0\'a0\'a0\'a0\'a0\'a0"collapsed_sections": []
\f1\fs29\fsmilli14667 \

\f0\fs28 \'a0\'a0\'a0\'a0\},
\f1\fs29\fsmilli14667 \

\f0\fs28 \'a0\'a0\'a0\'a0"kernelspec": \{
\f1\fs29\fsmilli14667 \

\f0\fs28 \'a0\'a0\'a0\'a0\'a0\'a0"name": "python3",
\f1\fs29\fsmilli14667 \

\f0\fs28 \'a0\'a0\'a0\'a0\'a0\'a0"display_name": "Python 3"
\f1\fs29\fsmilli14667 \

\f0\fs28 \'a0\'a0\'a0\'a0\},
\f1\fs29\fsmilli14667 \

\f0\fs28 \'a0\'a0\'a0\'a0"language_info": \{
\f1\fs29\fsmilli14667 \

\f0\fs28 \'a0\'a0\'a0\'a0\'a0\'a0"name": "python"
\f1\fs29\fsmilli14667 \

\f0\fs28 \'a0\'a0\'a0\'a0\}
\f1\fs29\fsmilli14667 \

\f0\fs28 \'a0\'a0\},
\f1\fs29\fsmilli14667 \

\f0\fs28 \'a0\'a0"cells": [
\f1\fs29\fsmilli14667 \

\f0\fs28 \'a0\'a0\'a0\'a0\{
\f1\fs29\fsmilli14667 \

\f0\fs28 \'a0\'a0\'a0\'a0\'a0\'a0"cell_type": "code",
\f1\fs29\fsmilli14667 \

\f0\fs28 \'a0\'a0\'a0\'a0\'a0\'a0"metadata": \{
\f1\fs29\fsmilli14667 \

\f0\fs28 \'a0\'a0\'a0\'a0\'a0\'a0\'a0\'a0"colab": \{
\f1\fs29\fsmilli14667 \

\f0\fs28 \'a0\'a0\'a0\'a0\'a0\'a0\'a0\'a0\'a0\'a0"base_uri": "https://localhost:8080/"
\f1\fs29\fsmilli14667 \

\f0\fs28 \'a0\'a0\'a0\'a0\'a0\'a0\'a0\'a0\},
\f1\fs29\fsmilli14667 \

\f0\fs28 \'a0\'a0\'a0\'a0\'a0\'a0\'a0\'a0"id": "uTSW9iV7mkwp",
\f1\fs29\fsmilli14667 \

\f0\fs28 \'a0\'a0\'a0\'a0\'a0\'a0\'a0\'a0"outputId": "26a03b05-3161-4e76-d127-a778259fe1be"
\f1\fs29\fsmilli14667 \

\f0\fs28 \'a0\'a0\'a0\'a0\'a0\'a0\},
\f1\fs29\fsmilli14667 \

\f0\fs28 \'a0\'a0\'a0\'a0\'a0\'a0"source": [
\f1\fs29\fsmilli14667 \

\f0\fs28 \'a0\'a0\'a0\'a0\'a0\'a0\'a0\'a0"import numpy as np\\n",
\f1\fs29\fsmilli14667 \

\f0\fs28 \'a0\'a0\'a0\'a0\'a0\'a0\'a0\'a0"c1=[1,1,1,1]\\n",
\f1\fs29\fsmilli14667 \

\f0\fs28 \'a0\'a0\'a0\'a0\'a0\'a0\'a0\'a0"c2=[1,-1,1,-1]\\n",
\f1\fs29\fsmilli14667 \

\f0\fs28 \'a0\'a0\'a0\'a0\'a0\'a0\'a0\'a0"c3=[1,1,-1,-1]\\n",
\f1\fs29\fsmilli14667 \

\f0\fs28 \'a0\'a0\'a0\'a0\'a0\'a0\'a0\'a0"c4=[1,-1,-1,1]\\n",
\f1\fs29\fsmilli14667 \

\f0\fs28 \'a0\'a0\'a0\'a0\'a0\'a0\'a0\'a0"rc=[]\\n",
\f1\fs29\fsmilli14667 \

\f0\fs28 \'a0\'a0\'a0\'a0\'a0\'a0\'a0\'a0"\\n",
\f1\fs29\fsmilli14667 \

\f0\fs28 \'a0\'a0\'a0\'a0\'a0\'a0\'a0\'a0"print(\\"Enter the data bits :\\")\\n",
\f1\fs29\fsmilli14667 \

\f0\fs28 \'a0\'a0\'a0\'a0\'a0\'a0\'a0\'a0"\\n",
\f1\fs29\fsmilli14667 \

\f0\fs28 \'a0\'a0\'a0\'a0\'a0\'a0\'a0\'a0"d1=int(input(\\"Enter D1 :\\"))\\n",
\f1\fs29\fsmilli14667 \

\f0\fs28 \'a0\'a0\'a0\'a0\'a0\'a0\'a0\'a0"d2=int(input(\\"Enter D2 :\\"))\\n",
\f1\fs29\fsmilli14667 \

\f0\fs28 \'a0\'a0\'a0\'a0\'a0\'a0\'a0\'a0"d3=int(input(\\"Enter D3 :\\"))\\n",
\f1\fs29\fsmilli14667 \

\f0\fs28 \'a0\'a0\'a0\'a0\'a0\'a0\'a0\'a0"d4=int(input(\\"Enter D4 :\\"))\\n",
\f1\fs29\fsmilli14667 \

\f0\fs28 \'a0\'a0\'a0\'a0\'a0\'a0\'a0\'a0"r1=np.multiply(c1,d1)\\n",
\f1\fs29\fsmilli14667 \

\f0\fs28 \'a0\'a0\'a0\'a0\'a0\'a0\'a0\'a0"r2=np.multiply(c2,d2)\\n",
\f1\fs29\fsmilli14667 \

\f0\fs28 \'a0\'a0\'a0\'a0\'a0\'a0\'a0\'a0"r3=np.multiply(c3,d3)\\n",
\f1\fs29\fsmilli14667 \

\f0\fs28 \'a0\'a0\'a0\'a0\'a0\'a0\'a0\'a0"r4=np.multiply(c4,d4)\\n",
\f1\fs29\fsmilli14667 \

\f0\fs28 \'a0\'a0\'a0\'a0\'a0\'a0\'a0\'a0"resultant_channel=r1+r2+r3+r4;\\n",
\f1\fs29\fsmilli14667 \

\f0\fs28 \'a0\'a0\'a0\'a0\'a0\'a0\'a0\'a0"print(\\"Resultant Channel\\",resultant_channel)\\n",
\f1\fs29\fsmilli14667 \

\f0\fs28 \'a0\'a0\'a0\'a0\'a0\'a0\'a0\'a0"Channel=int(input(\\"Enter \'a0the station to listen for C1=1 ,C2=2, C3=3 C4=4 : \\"))\\n",
\f1\fs29\fsmilli14667 \

\f0\fs28 \'a0\'a0\'a0\'a0\'a0\'a0\'a0\'a0"\\n",
\f1\fs29\fsmilli14667 \

\f0\fs28 \'a0\'a0\'a0\'a0\'a0\'a0\'a0\'a0"if Channel==1:\\n",
\f1\fs29\fsmilli14667 \

\f0\fs28 \'a0\'a0\'a0\'a0\'a0\'a0\'a0\'a0" \'a0rc=c1\\n",
\f1\fs29\fsmilli14667 \

\f0\fs28 \'a0\'a0\'a0\'a0\'a0\'a0\'a0\'a0"elif Channel==2:\\n",
\f1\fs29\fsmilli14667 \

\f0\fs28 \'a0\'a0\'a0\'a0\'a0\'a0\'a0\'a0" \'a0rc=c2\\n",
\f1\fs29\fsmilli14667 \

\f0\fs28 \'a0\'a0\'a0\'a0\'a0\'a0\'a0\'a0"elif Channel==3:\\n",
\f1\fs29\fsmilli14667 \

\f0\fs28 \'a0\'a0\'a0\'a0\'a0\'a0\'a0\'a0" \'a0rc=c3\\n",
\f1\fs29\fsmilli14667 \

\f0\fs28 \'a0\'a0\'a0\'a0\'a0\'a0\'a0\'a0"elif Channel==4:\\n",
\f1\fs29\fsmilli14667 \

\f0\fs28 \'a0\'a0\'a0\'a0\'a0\'a0\'a0\'a0" \'a0rc=c4\\n",
\f1\fs29\fsmilli14667 \

\f0\fs28 \'a0\'a0\'a0\'a0\'a0\'a0\'a0\'a0"inner_product = np.multiply(resultant_channel,rc)\\n",
\f1\fs29\fsmilli14667 \

\f0\fs28 \'a0\'a0\'a0\'a0\'a0\'a0\'a0\'a0"\\n",
\f1\fs29\fsmilli14667 \

\f0\fs28 \'a0\'a0\'a0\'a0\'a0\'a0\'a0\'a0"print(\\"Inner Product\\",inner_product)\\n",
\f1\fs29\fsmilli14667 \

\f0\fs28 \'a0\'a0\'a0\'a0\'a0\'a0\'a0\'a0"res1=sum(inner_product)\\n",
\f1\fs29\fsmilli14667 \

\f0\fs28 \'a0\'a0\'a0\'a0\'a0\'a0\'a0\'a0"\\n",
\f1\fs29\fsmilli14667 \

\f0\fs28 \'a0\'a0\'a0\'a0\'a0\'a0\'a0\'a0"data = res1/len(inner_product) \\n",
\f1\fs29\fsmilli14667 \

\f0\fs28 \'a0\'a0\'a0\'a0\'a0\'a0\'a0\'a0"print(\\"Data bit that was sent\\",data)"
\f1\fs29\fsmilli14667 \

\f0\fs28 \'a0\'a0\'a0\'a0\'a0\'a0],
\f1\fs29\fsmilli14667 \

\f0\fs28 \'a0\'a0\'a0\'a0\'a0\'a0"execution_count": 3,
\f1\fs29\fsmilli14667 \

\f0\fs28 \'a0\'a0\'a0\'a0\'a0\'a0"outputs": [
\f1\fs29\fsmilli14667 \

\f0\fs28 \'a0\'a0\'a0\'a0\'a0\'a0\'a0\'a0\{
\f1\fs29\fsmilli14667 \

\f0\fs28 \'a0\'a0\'a0\'a0\'a0\'a0\'a0\'a0\'a0\'a0"output_type": "stream",
\f1\fs29\fsmilli14667 \

\f0\fs28 \'a0\'a0\'a0\'a0\'a0\'a0\'a0\'a0\'a0\'a0"name": "stdout",
\f1\fs29\fsmilli14667 \

\f0\fs28 \'a0\'a0\'a0\'a0\'a0\'a0\'a0\'a0\'a0\'a0"text": [
\f1\fs29\fsmilli14667 \

\f0\fs28 \'a0\'a0\'a0\'a0\'a0\'a0\'a0\'a0\'a0\'a0\'a0\'a0"Enter the data bits :\\n",
\f1\fs29\fsmilli14667 \

\f0\fs28 \'a0\'a0\'a0\'a0\'a0\'a0\'a0\'a0\'a0\'a0\'a0\'a0"Enter D1 :23\\n",
\f1\fs29\fsmilli14667 \

\f0\fs28 \'a0\'a0\'a0\'a0\'a0\'a0\'a0\'a0\'a0\'a0\'a0\'a0"Enter D2 :5\\n",
\f1\fs29\fsmilli14667 \

\f0\fs28 \'a0\'a0\'a0\'a0\'a0\'a0\'a0\'a0\'a0\'a0\'a0\'a0"Enter D3 :456\\n",
\f1\fs29\fsmilli14667 \

\f0\fs28 \'a0\'a0\'a0\'a0\'a0\'a0\'a0\'a0\'a0\'a0\'a0\'a0"Enter D4 :56\\n",
\f1\fs29\fsmilli14667 \

\f0\fs28 \'a0\'a0\'a0\'a0\'a0\'a0\'a0\'a0\'a0\'a0\'a0\'a0"Resultant Channel [ 540 \'a0418 -484 -382]\\n",
\f1\fs29\fsmilli14667 \

\f0\fs28 \'a0\'a0\'a0\'a0\'a0\'a0\'a0\'a0\'a0\'a0\'a0\'a0"Enter \'a0the station to listen for C1=1 ,C2=2, C3=3 C4=4 : 1\\n",
\f1\fs29\fsmilli14667 \

\f0\fs28 \'a0\'a0\'a0\'a0\'a0\'a0\'a0\'a0\'a0\'a0\'a0\'a0"Inner Product [ 540 \'a0418 -484 -382]\\n",
\f1\fs29\fsmilli14667 \

\f0\fs28 \'a0\'a0\'a0\'a0\'a0\'a0\'a0\'a0\'a0\'a0\'a0\'a0"Data bit that was sent 23.0\\n"
\f1\fs29\fsmilli14667 \

\f0\fs28 \'a0\'a0\'a0\'a0\'a0\'a0\'a0\'a0\'a0\'a0]
\f1\fs29\fsmilli14667 \

\f0\fs28 \'a0\'a0\'a0\'a0\'a0\'a0\'a0\'a0\}
\f1\fs29\fsmilli14667 \

\f0\fs28 \'a0\'a0\'a0\'a0\'a0\'a0]
\f1\fs29\fsmilli14667 \

\f0\fs28 \'a0\'a0\'a0\'a0\}
\f1\fs29\fsmilli14667 \

\f0\fs28 \'a0\'a0]
\f1\fs29\fsmilli14667 \

\f0\fs28 \}
\f1\fs29\fsmilli14667 \
}